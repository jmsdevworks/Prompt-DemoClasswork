{
  "nbformat": 4,
  "nbformat_minor": 0,
  "metadata": {
    "colab": {
      "provenance": [],
      "authorship_tag": "ABX9TyMamdZoB2a4EoygSWvTQRD+",
      "include_colab_link": true
    },
    "kernelspec": {
      "name": "python3",
      "display_name": "Python 3"
    },
    "language_info": {
      "name": "python"
    }
  },
  "cells": [
    {
      "cell_type": "markdown",
      "metadata": {
        "id": "view-in-github",
        "colab_type": "text"
      },
      "source": [
        "<a href=\"https://colab.research.google.com/github/jmsdevworks/Prompt-DemoClasswork/blob/main/Homework_HR.ipynb\" target=\"_parent\"><img src=\"https://colab.research.google.com/assets/colab-badge.svg\" alt=\"Open In Colab\"/></a>"
      ]
    },
    {
      "cell_type": "markdown",
      "source": [
        " Homework - create a conversational chatbot that responds to user inquiries using PDF document information. It requires proficiency in extracting and converting text into numerical vectors, establishing an answer-finding mechanism, and designing a user-friendly chatbot interface with Gradio. Additionally, the initiative emphasizes structuring inquiries for clear communication and deploying the chatbot for practical use, guaranteeing the system's accessibility and efficiency in meeting user needs.\n",
        "\n",
        "  you have received the critical task of improving the operational efficiency of a human resources department, a leading multinational corporation. Your toolkit includes cutting-edge conversational AI technology, Python libraries, the powerful GPT model from OpenAI, and the user-friendly Gradio UI. Your mission is to integrate these advanced tools seamlessly to transform HR processes, creating a more streamlined and efficient workflow within the  organization.\n",
        "\n",
        "\n",
        "Action\n",
        "Import essential tools and set up OpenAI's API environment.\n",
        "Load HR policy using PyPDFLoader and split it for easy processing.\n",
        "Create vector representations for text chunks using Chroma dB and OpenAI's embeddings.\n",
        "Build a question-answeringHo system using the GPT-3.5 Turbo model to retrieve answers from text chunks.\n",
        "Create a prompt template to guide the chatbot in understanding and responding to users.\n",
        "Use Gradio to build a user-friendly chatbot interface, enabling interaction and information retrieval.\n",
        "\n"
      ],
      "metadata": {
        "id": "Mdbx2CcOsEOT"
      }
    },
    {
      "cell_type": "markdown",
      "source": [
        "#1. Setting up **programming environment**"
      ],
      "metadata": {
        "id": "HBf-aSktrdR5"
      }
    },
    {
      "cell_type": "code",
      "source": [],
      "metadata": {
        "id": "cKWO6vlYrSAO"
      },
      "execution_count": null,
      "outputs": []
    },
    {
      "cell_type": "markdown",
      "source": [],
      "metadata": {
        "id": "70oxeLQur_cT"
      }
    },
    {
      "cell_type": "markdown",
      "source": [
        "#2. Processing **Text Documents**"
      ],
      "metadata": {
        "id": "HWLO8fmArSb4"
      }
    },
    {
      "cell_type": "code",
      "source": [],
      "metadata": {
        "id": "llJFSqLErxzS"
      },
      "execution_count": null,
      "outputs": []
    },
    {
      "cell_type": "markdown",
      "source": [
        "#3. Creating Text Vector Representations\n"
      ],
      "metadata": {
        "id": "vWDuUMrlrk5U"
      }
    },
    {
      "cell_type": "code",
      "source": [],
      "metadata": {
        "id": "Z0wUcv30ryau"
      },
      "execution_count": null,
      "outputs": []
    },
    {
      "cell_type": "markdown",
      "source": [
        "#4. Building a Question answer System\n"
      ],
      "metadata": {
        "id": "rw3OaD6irqes"
      }
    },
    {
      "cell_type": "code",
      "source": [],
      "metadata": {
        "id": "5X3leP2Yrwx_"
      },
      "execution_count": null,
      "outputs": []
    }
  ]
}